{
  "nbformat": 4,
  "nbformat_minor": 0,
  "metadata": {
    "colab": {
      "provenance": []
    },
    "kernelspec": {
      "name": "python3",
      "display_name": "Python 3"
    },
    "language_info": {
      "name": "python"
    }
  },
  "cells": [
    {
      "cell_type": "code",
      "source": [
        "import timeit\n",
        "import numpy as np\n",
        "import random"
      ],
      "metadata": {
        "id": "8EbU1WMvrgV1"
      },
      "execution_count": 2,
      "outputs": []
    },
    {
      "cell_type": "markdown",
      "source": [
        "###***1. How many multiplications and additions do you need to perform a matrix multiplication between a (n, k) and (k, m) matrix? Explain.***"
      ],
      "metadata": {
        "id": "8IIvaVounbib"
      }
    },
    {
      "cell_type": "markdown",
      "source": [
        "* Matrix multiplication involves multiplying each element of a row in the first matrix by the corresponding element in a column of the second matrix and summing up these products. The result is a new matrix.\n",
        "\n",
        "* Let's consider the dimensions of the matrices:\n",
        "\n",
        "  - Matrix $A: (n, k)$\n",
        "  - Matrix $B: (k, m)$\n",
        "\n",
        "* To calculate the elements of the resulting matrix $C$ result of $( A \\times B)$, each element $C_{ij}$ is obtained by multiplying the elements of the $i$-th row of $A$ by the corresponding elements of the $j$-th column of $B$ and summing up these products.\n",
        "\n",
        "* For each element $C_{ij}$, you perform $k$  multiplications (for the $k$ corresponding elements) and $k-1$ additions (to sum up these products).\n",
        "\n",
        "* Since there are $n$ rows and $m$ columns in the resulting matrix $C$, the total number of multiplications:\n",
        "\n",
        "$$\\text{Total multiplications} = n \\times m \\times k$$"
      ],
      "metadata": {
        "id": "Hrq6D3CA1sFY"
      }
    },
    {
      "cell_type": "markdown",
      "source": [
        "###***2. Write Python code to multiply the above two matrices. Solve using list of lists and then use numpy. Compare the timing of both solutions. Which one is faster? Why?***"
      ],
      "metadata": {
        "id": "mtP6aXINn4Uu"
      }
    },
    {
      "cell_type": "code",
      "source": [
        "# Matrix multiplication using lists of lists\n",
        "\n",
        "def matrix_multiply_lists(mat_1, mat_2):\n",
        "    N = len(mat_1)\n",
        "    K = len(mat_1[0])\n",
        "    M = len(mat_2[0])\n",
        "    mat_3_py = [[0 for i in range(M)] for j in range(N)]\n",
        "\n",
        "    for i in range(N):\n",
        "        for k in range(M):\n",
        "            val = 0\n",
        "            for j in range(K):\n",
        "                val += mat_1[i][j] * mat_2[j][k]\n",
        "            mat_3_py[i][k] = val\n",
        "\n",
        "    return mat_3_py\n",
        "\n",
        "# Matrix multiplication using NumPy\n",
        "\n",
        "def matrix_multiply_numpy(mat_1, mat_2):\n",
        "    mat_1_np = np.array(mat_1)\n",
        "    mat_2_np = np.array(mat_2)\n",
        "    mat_3_np = np.dot(mat_1_np, mat_2_np)\n",
        "\n",
        "    return mat_3_np\n",
        "\n",
        "mat_1 = [[2, 5, 7], [9, 3, 1], [2, 1, 5], [3, 6, 4]]\n",
        "mat_2 = [[0, 3, 2, 1, 0], [5, 7, 3, 6, 0], [9, 6, 8, 0, 7]]\n",
        "\n",
        "\n",
        "start_time_lists = timeit.default_timer()\n",
        "result_lists = matrix_multiply_lists(mat_1, mat_2)\n",
        "end_time_lists = timeit.default_timer()\n",
        "\n",
        "print(\"Matrix multiplication using lists of lists:\\n\")\n",
        "print(f\"{np.array(result_lists)}\\n\")\n",
        "print(f\"Time taken using list of list: {end_time_lists - start_time_lists}\")\n",
        "\n",
        "\n",
        "start_time_numpy = timeit.default_timer()\n",
        "result_numpy = matrix_multiply_numpy(mat_1, mat_2)\n",
        "end_time_numpy = timeit.default_timer()\n",
        "\n",
        "print(f\"\\nMatrix multiplication using NumPy:\\n\")\n",
        "print(f\"{result_numpy}\\n\")\n",
        "print(f\"Time taken using Numpy: {end_time_numpy - start_time_numpy}\")"
      ],
      "metadata": {
        "colab": {
          "base_uri": "https://localhost:8080/"
        },
        "id": "eQlLIha1oAMl",
        "outputId": "ebcfe9c2-5616-4b5a-9f3d-cc07045091c0"
      },
      "execution_count": 94,
      "outputs": [
        {
          "output_type": "stream",
          "name": "stdout",
          "text": [
            "Matrix multiplication using lists of lists:\n",
            "\n",
            "[[88 83 75 32 49]\n",
            " [24 54 35 27  7]\n",
            " [50 43 47  8 35]\n",
            " [66 75 56 39 28]]\n",
            "\n",
            "Time taken using list of list: 0.010425442000268959\n",
            "\n",
            "Matrix multiplication using NumPy:\n",
            "\n",
            "[[88 83 75 32 49]\n",
            " [24 54 35 27  7]\n",
            " [50 43 47  8 35]\n",
            " [66 75 56 39 28]]\n",
            "\n",
            "Time taken using Numpy: 0.00020643899915739894\n"
          ]
        }
      ]
    },
    {
      "cell_type": "markdown",
      "source": [
        "**Answer:-** List of list takes less time than Numpy's `dot` operator."
      ],
      "metadata": {
        "id": "GayvvfKusvPe"
      }
    },
    {
      "cell_type": "markdown",
      "source": [
        "### ***3. Finding the highest element in a list requires one pass of the array. Finding the second highest element requires 2 passes of the the array. Using this method, what is the time complexity of finding the median of the array? Can you suggest a better method? Can you implement both these methods in Python and compare against `numpy.median` routine in terms of time?***"
      ],
      "metadata": {
        "id": "3n1xdyCItmh-"
      }
    },
    {
      "cell_type": "code",
      "source": [
        "def array_pass(arr,k):\n",
        "  if len(arr)==1:\n",
        "    return arr[0]\n",
        "  pivot = random.choice(arr)\n",
        "  low = [ele for ele in arr if ele < pivot]\n",
        "  pivots = [ele for ele in arr if ele == pivot]\n",
        "  high = [ele for ele in arr if ele > pivot]\n",
        "\n",
        "  if k < len(low):\n",
        "    return array_pass(low,k)\n",
        "  if k < len(low) + len(pivots):\n",
        "    return pivots[0]\n",
        "  else:\n",
        "    return array_pass(high,k-len(low) - len(pivots))\n",
        "\n",
        "def find_median(arr):\n",
        "  n = len(arr)\n",
        "  if n%2 == 1:\n",
        "    return array_pass(arr,n//2)\n",
        "  else:\n",
        "    mid1 = array_pass(arr, n//2-1)\n",
        "    mid2 = array_pass(arr,n//2)\n",
        "    return (mid1 + mid2)/2\n",
        "\n",
        "\n",
        "# Using sort function\n",
        "\n",
        "def using_sort_function(arr):\n",
        "  sorted_arr = arr.sort()\n",
        "  if len(arr)%2 == 0:\n",
        "    return (arr[len(arr)//2]+arr[len(arr)//2 - 1])/2\n",
        "  else:\n",
        "    return (arr[len(arr)//2])/2\n",
        "\n",
        "arr = [3,2,1,4,5,6]\n",
        "\n",
        "start_time = timeit.default_timer()\n",
        "median_arr_pass = find_median(arr)\n",
        "end_time = timeit.default_timer()\n",
        "\n",
        "print(f\"Using own function median is: {median_arr_pass}\")\n",
        "print(f\"Time taken by it:- {end_time - start_time}\")\n",
        "print(\"*\"*50)\n",
        "\n",
        "start_time = timeit.default_timer()\n",
        "median_arr_sort = using_sort_function(arr)\n",
        "end_time = timeit.default_timer()\n",
        "\n",
        "print(f\"Using sorted function median is: {median_arr_sort}\")\n",
        "print(f\"Time taken by it:- {end_time - start_time}\")\n",
        "print(\"*\"*50)\n",
        "\n",
        "start_time = timeit.default_timer()\n",
        "median_np = np.median(arr)\n",
        "end_time = timeit.default_timer()\n",
        "\n",
        "print(f\"Using own function median is: {median_np}\")\n",
        "print(f\"Time taken by the function:- {end_time - start_time}\")\n"
      ],
      "metadata": {
        "colab": {
          "base_uri": "https://localhost:8080/"
        },
        "id": "jr-c0z_arV1R",
        "outputId": "c8f47fbc-567e-4869-d367-069e27a679fb"
      },
      "execution_count": 12,
      "outputs": [
        {
          "output_type": "stream",
          "name": "stdout",
          "text": [
            "Using own function median is: 3.5\n",
            "Time taken by it:- 5.911999960517278e-05\n",
            "**************************************************\n",
            "Using sorted function median is: 3.5\n",
            "Time taken by it:- 4.982999962521717e-05\n",
            "**************************************************\n",
            "Using own function median is: 3.5\n",
            "Time taken by the function:- 0.00028608999946300173\n"
          ]
        }
      ]
    },
    {
      "cell_type": "markdown",
      "source": [
        "### ***4. What is the gradient of the following function with respect to x and y?***\n",
        "\n",
        "$$\n",
        "x^2y + y^3\\sin(x)\n",
        "$$\n",
        "\n"
      ],
      "metadata": {
        "id": "hZnn6ADFuaqC"
      }
    },
    {
      "cell_type": "markdown",
      "source": [
        "$$\n",
        "\\text{The partial derivatives of the function } f(x, y) = x^2y + y^3\\sin(x) \\text{ are given by:}\n",
        "$$\n",
        "\n",
        "$$\n",
        "\\frac{\\partial f}{\\partial x} = 2xy + y^3\\cos(x)\n",
        "$$\n",
        "\n",
        "$$\n",
        "\\frac{\\partial f}{\\partial y} = x^2 + 3y^2\\sin(x)\n",
        "$$\n",
        "\n",
        "$$\n",
        "\\text{The gradient vector is:}\n",
        "$$\n",
        "\n",
        "$$\n",
        "\\vec{\\nabla}f = \\left(2xy + y^3\\cos(x), x^2 + 3y^2\\sin(x)\\right)\n",
        "$$\n"
      ],
      "metadata": {
        "id": "WAJjfPZovpOr"
      }
    },
    {
      "cell_type": "markdown",
      "source": [
        "### ***5. Use JAX to confirm the gradient evaluated by your method matches the analytical solution corresponding to a few random values of x and y***"
      ],
      "metadata": {
        "id": "dATnKAOgwwhV"
      }
    },
    {
      "cell_type": "code",
      "source": [
        "import jax\n",
        "import jax.numpy as jnp\n",
        "\n",
        "def f(x, y):\n",
        "    return (x**2) * y + (y**3) * jnp.sin(x)\n",
        "\n",
        "def f_x(x, y):\n",
        "    return 2 * x * y + (y**3) * jnp.cos(x)\n",
        "\n",
        "def f_y(x, y):\n",
        "    return (x**2) + 3 * (y**2) * jnp.sin(x)\n",
        "\n",
        "# Analytical solution\n",
        "x_val = 2\n",
        "y_val = 3\n",
        "f_val = f(x_val, y_val)\n",
        "f_x_val = f_x(x_val, y_val)\n",
        "f_y_val = f_y(x_val, y_val)\n",
        "\n",
        "print('Analytical Solution:')\n",
        "print(f'Function value at X = {x_val} and Y = {y_val}:- {f_val:.4f}')\n",
        "print(f'Derivative w.r.t X at X = {x_val} and Y = {y_val}:- {f_x_val:.4f}')\n",
        "print(f'Derivative w.r.t Y at X = {x_val} and Y = {y_val}:- {f_y_val:.4f}\\n')\n",
        "\n",
        "# JAX solution\n",
        "x_jax = jnp.float32(x_val)\n",
        "y_jax = jnp.float32(y_val)\n",
        "grad_x_fun = jax.grad(f, argnums=0)\n",
        "grad_y_fun = jax.grad(f, argnums=1)\n",
        "f_x_jax = grad_x_fun(x_jax, y_jax)\n",
        "f_y_jax = grad_y_fun(x_jax, y_jax)\n",
        "\n",
        "print('Using JAX:')\n",
        "print(f'Function value at X = {x_val} and Y = {y_val}:- {f(x_val, y_val):.4f}')\n",
        "print(f'Derivative w.r.t X at X = {x_val} and Y = {y_val}:- {f_x_jax:.4f}')\n",
        "print(f'Derivative w.r.t Y at X = {x_val} and Y = {y_val}:- {f_y_jax:.4f}\\n')\n",
        "\n",
        "print('JAX solution matches with the Analytical Solution')"
      ],
      "metadata": {
        "colab": {
          "base_uri": "https://localhost:8080/"
        },
        "id": "I3iXqww3vPNa",
        "outputId": "b2261b97-d27d-4572-8aa6-9a7b3f238b56"
      },
      "execution_count": 6,
      "outputs": [
        {
          "output_type": "stream",
          "name": "stdout",
          "text": [
            "Analytical Solution:\n",
            "Function value at X = 2 and Y = 3:- 36.5510\n",
            "Derivative w.r.t X at X = 2 and Y = 3:- 0.7640\n",
            "Derivative w.r.t Y at X = 2 and Y = 3:- 28.5510\n",
            "\n",
            "Using JAX:\n",
            "Function value at X = 2 and Y = 3:- 36.5510\n",
            "Derivative w.r.t X at X = 2 and Y = 3:- 0.7640\n",
            "Derivative w.r.t Y at X = 2 and Y = 3:- 28.5510\n",
            "\n",
            "JAX solution matches with the Analytical Solution\n"
          ]
        }
      ]
    },
    {
      "cell_type": "markdown",
      "source": [
        "### ***6. Use `sympy` to confirm that you obtain the same gradient analytically.***"
      ],
      "metadata": {
        "id": "lLLZRfVCyt4m"
      }
    },
    {
      "cell_type": "code",
      "source": [
        "from sympy import symbols, diff, sin\n",
        "\n",
        "# Define symbols\n",
        "x, y = symbols('x y')\n",
        "\n",
        "f = (x**2) * y + (y**3) * sin(x)\n",
        "\n",
        "# Calculate partial derivatives\n",
        "df_dx = diff(f, x)\n",
        "df_dy = diff(f, y)\n",
        "\n",
        "print(\"Expression for df/dx:-\")\n",
        "df_dx\n"
      ],
      "metadata": {
        "colab": {
          "base_uri": "https://localhost:8080/",
          "height": 56
        },
        "id": "K-KmURb-x9H3",
        "outputId": "ed7321a8-6976-4d6e-9c95-768ca9eadf6e"
      },
      "execution_count": 7,
      "outputs": [
        {
          "output_type": "stream",
          "name": "stdout",
          "text": [
            "Expression for df/dx:-\n"
          ]
        },
        {
          "output_type": "execute_result",
          "data": {
            "text/plain": [
              "2*x*y + y**3*cos(x)"
            ],
            "text/latex": "$\\displaystyle 2 x y + y^{3} \\cos{\\left(x \\right)}$"
          },
          "metadata": {},
          "execution_count": 7
        }
      ]
    },
    {
      "cell_type": "code",
      "source": [
        "print(\"Expression for df/dy:-\")\n",
        "df_dy"
      ],
      "metadata": {
        "colab": {
          "base_uri": "https://localhost:8080/",
          "height": 56
        },
        "id": "J8bs59pV2QHi",
        "outputId": "b82db47b-18de-4098-ae81-47f24bee91ed"
      },
      "execution_count": 8,
      "outputs": [
        {
          "output_type": "stream",
          "name": "stdout",
          "text": [
            "Expression for df/dy:-\n"
          ]
        },
        {
          "output_type": "execute_result",
          "data": {
            "text/plain": [
              "x**2 + 3*y**2*sin(x)"
            ],
            "text/latex": "$\\displaystyle x^{2} + 3 y^{2} \\sin{\\left(x \\right)}$"
          },
          "metadata": {},
          "execution_count": 8
        }
      ]
    },
    {
      "cell_type": "code",
      "source": [
        "# Specify values for x and y\n",
        "x_value = 2.0\n",
        "y_value = 3.0\n",
        "\n",
        "# Evaluate derivatives at specified values\n",
        "derivative_wrt_x_value = df_dx.subs({x: x_value, y: y_value})\n",
        "derivative_wrt_y_value = df_dy.subs({x: x_value, y: y_value})\n",
        "\n",
        "# Print the results\n",
        "print(f\"The derivative with respect to x at x = {x_value} and y = {y_value} is: {derivative_wrt_x_value.evalf():.4f}\")\n",
        "print(f\"The derivative with respect to y at x = {x_value} and y = {y_value} is: {derivative_wrt_y_value.evalf():.4f}\")\n"
      ],
      "metadata": {
        "colab": {
          "base_uri": "https://localhost:8080/"
        },
        "id": "Wwwz1T4o0PRl",
        "outputId": "821ebd9b-8f40-465f-f010-88cd549b937b"
      },
      "execution_count": 9,
      "outputs": [
        {
          "output_type": "stream",
          "name": "stdout",
          "text": [
            "The derivative with respect to x at x = 2.0 and y = 3.0 is: 0.7640\n",
            "The derivative with respect to y at x = 2.0 and y = 3.0 is: 28.5510\n"
          ]
        }
      ]
    },
    {
      "cell_type": "markdown",
      "source": [
        "### ***7. Create a Python nested dictionary to represent hierarchical information. We want to store record of students and their marks.***"
      ],
      "metadata": {
        "id": "g1Y05Y8N2iZM"
      }
    },
    {
      "cell_type": "code",
      "source": [
        "students_dict = {\n",
        "    2022: {\n",
        "        'CSE': {\n",
        "            'Roll Number': 22110169,\n",
        "            'Name': 'Virat',\n",
        "            'Marks': {\n",
        "                'Maths': 100,\n",
        "                'English': 81,\n",
        "            }\n",
        "        },\n",
        "        'EE': {\n",
        "            'Roll Number': 22110069,\n",
        "            'Name': 'Rohit',\n",
        "            'Marks': {\n",
        "                'Maths': 50,\n",
        "                'English': 89,\n",
        "            }\n",
        "        }\n",
        "    },\n",
        "    2023: {\n",
        "        'MSE': {\n",
        "            'Roll Number': 23110299,\n",
        "            'Name': 'Aditya',\n",
        "            'Marks': {\n",
        "                'Maths': 54,\n",
        "                'English': 33,\n",
        "            }\n",
        "        }\n",
        "    },\n",
        "    2024: {\n",
        "        'CL': {\n",
        "            'Roll Number': 24110045,\n",
        "            'Name': 'Bhavik',\n",
        "            'Marks': {\n",
        "                'Maths': 67,\n",
        "                'English': 86,\n",
        "            }\n",
        "        },\n",
        "        'CE': {\n",
        "            'Roll Number': 24110007,\n",
        "            'Name': 'Dhoni',\n",
        "            'Marks': {\n",
        "                'Maths': 77,\n",
        "                'English': 77,\n",
        "            }\n",
        "        }\n",
        "    }\n",
        "}\n",
        "\n",
        "# Accessing information 2022\n",
        "print(\"Details for the student in the year 2022, CSE:\")\n",
        "print(\"Roll Number:\", students_dict[2022]['CSE']['Roll Number'])\n",
        "print(\"Name:\", students_dict[2022]['CSE']['Name'])\n",
        "print(\"Marks:\", students_dict[2022]['CSE']['Marks'])\n",
        "print(\"*\"*50)\n",
        "\n",
        "# Accessing information 2023\n",
        "print(\"Details for the student in the year 2023, MSE:\")\n",
        "print(\"Roll Number:\", students_dict[2023]['MSE']['Roll Number'])\n",
        "print(\"Name:\", students_dict[2023]['MSE']['Name'])\n",
        "print(\"Marks:\", students_dict[2023]['MSE']['Marks'])\n",
        "print(\"*\"*50)\n",
        "\n",
        "# Accessing information 2024\n",
        "print(\"Details for the student in the year 2024, CE:\")\n",
        "print(\"Roll Number:\", students_dict[2024]['CE']['Roll Number'])\n",
        "print(\"Name:\", students_dict[2024]['CE']['Name'])\n",
        "print(\"Marks:\", students_dict[2024]['CE']['Marks'])"
      ],
      "metadata": {
        "colab": {
          "base_uri": "https://localhost:8080/"
        },
        "id": "lalSOU7p12s3",
        "outputId": "41406252-c6fa-436c-9ab5-cb37e7bdd65e"
      },
      "execution_count": 99,
      "outputs": [
        {
          "output_type": "stream",
          "name": "stdout",
          "text": [
            "Details for the student in the year 2022, CSE:\n",
            "Roll Number: 22110169\n",
            "Name: Virat\n",
            "Marks: {'Maths': 100, 'English': 81}\n",
            "**************************************************\n",
            "Details for the student in the year 2023, MSE:\n",
            "Roll Number: 23110299\n",
            "Name: Aditya\n",
            "Marks: {'Maths': 54, 'English': 33}\n",
            "**************************************************\n",
            "Details for the student in the year 2024, CE:\n",
            "Roll Number: 24110007\n",
            "Name: Dhoni\n",
            "Marks: {'Maths': 77, 'English': 77}\n"
          ]
        }
      ]
    },
    {
      "cell_type": "markdown",
      "source": [
        "### ***8. Store the same information using Python classes. We have an overall database which is a list of year objects. Each year contains a list of branches. Each branch contains a list of students. Each student has some properties like name, roll number and has marks in some subjects.***"
      ],
      "metadata": {
        "id": "1vT6s9IcE6gJ"
      }
    },
    {
      "cell_type": "code",
      "source": [
        "class Student:\n",
        "    def __init__(self, name, roll_number, marks):\n",
        "        self.name = name\n",
        "        self.roll_number = roll_number\n",
        "        self.marks = marks\n",
        "\n",
        "    def display_info(self):\n",
        "        print(f\"Name: {self.name}, Roll Number: {self.roll_number}\")\n",
        "        print(\"Marks:\")\n",
        "        for subject, score in self.marks.items():\n",
        "            print(f\"{subject}: {score}\")\n",
        "\n",
        "class Branch:\n",
        "    def __init__(self, name):\n",
        "        self.name = name\n",
        "        self.students = []\n",
        "\n",
        "    def add_student(self, student):\n",
        "        self.students.append(student)\n",
        "\n",
        "    def display_students(self):\n",
        "        print(f\"Students in {self.name} branch:\")\n",
        "        for student in self.students:\n",
        "            student.display_info()\n",
        "            print()\n",
        "\n",
        "class Year:\n",
        "    def __init__(self, year):\n",
        "        self.year = year\n",
        "        self.branches = []\n",
        "\n",
        "    def add_branch(self, branch):\n",
        "        self.branches.append(branch)\n",
        "\n",
        "    def display_branches(self):\n",
        "        print(f\"Branches in {self.year}:\")\n",
        "        for branch in self.branches:\n",
        "            branch.display_students()\n",
        "            print()\n",
        "\n",
        "\n",
        "student1 = Student(\"Virat\", 22110169, {\"Maths\": 100, \"English\": 81})\n",
        "student2 = Student(\"Rohit\", 22110069, {\"Maths\": 45, \"English\": 68})\n",
        "student3 = Student(\"Aditya\", 22110199, {\"Maths\": 35, \"English\": 88})\n",
        "student4 = Student(\"Dhoni\", 22110007, {\"Maths\": 77, \"English\": 70})\n",
        "\n",
        "\n",
        "cse_branch = Branch(\"CSE\")\n",
        "cse_branch.add_student(student1)\n",
        "\n",
        "ee_branch = Branch(\"EE\")\n",
        "ee_branch.add_student(student2)\n",
        "\n",
        "mse_branch = Branch(\"MSE\")\n",
        "mse_branch.add_student(student3)\n",
        "\n",
        "cl_branch = Branch(\"CL\")\n",
        "cl_branch.add_student(student4)\n",
        "\n",
        "year_2022 = Year(2022)\n",
        "year_2022.add_branch(cse_branch)\n",
        "year_2022.add_branch(ee_branch)\n",
        "year_2022.add_branch(mse_branch)\n",
        "year_2022.add_branch(cl_branch)\n",
        "\n",
        "year_2022.display_branches()\n"
      ],
      "metadata": {
        "colab": {
          "base_uri": "https://localhost:8080/"
        },
        "id": "DIDZ21jCFD_S",
        "outputId": "f1679454-28a3-47c6-c7b1-73bc870fb745"
      },
      "execution_count": 13,
      "outputs": [
        {
          "output_type": "stream",
          "name": "stdout",
          "text": [
            "Branches in 2022:\n",
            "Students in CSE branch:\n",
            "Name: Virat, Roll Number: 22110169\n",
            "Marks:\n",
            "Maths: 100\n",
            "English: 81\n",
            "\n",
            "\n",
            "Students in EE branch:\n",
            "Name: Rohit, Roll Number: 22110069\n",
            "Marks:\n",
            "Maths: 45\n",
            "English: 68\n",
            "\n",
            "\n",
            "Students in MSE branch:\n",
            "Name: Aditya, Roll Number: 22110199\n",
            "Marks:\n",
            "Maths: 35\n",
            "English: 88\n",
            "\n",
            "\n",
            "Students in CL branch:\n",
            "Name: Dhoni, Roll Number: 22110007\n",
            "Marks:\n",
            "Maths: 77\n",
            "English: 70\n",
            "\n",
            "\n"
          ]
        }
      ]
    },
    {
      "cell_type": "markdown",
      "source": [
        "### ***9. Using matplotlib plot the following functions on the domain: x = 0.5 to 100.0 in steps of 0.5.***"
      ],
      "metadata": {
        "id": "2Ts_RYGwFFp7"
      }
    },
    {
      "cell_type": "code",
      "source": [
        "import matplotlib.pyplot as plt"
      ],
      "metadata": {
        "id": "U61JCFFdFn7C"
      },
      "execution_count": 10,
      "outputs": []
    },
    {
      "cell_type": "code",
      "source": [
        "import matplotlib.pyplot as plt\n",
        "import numpy as np\n",
        "\n",
        "x = np.arange(0.5, 100.5, 0.5)\n",
        "y1 = x\n",
        "y2 = x**2\n",
        "y3 = (x**3) / 100\n",
        "y4 = np.sin(x)\n",
        "y5 = np.sin(x) / x\n",
        "y6 = np.log(x)\n",
        "y7 = np.exp(x)\n",
        "\n",
        "fig, axs = plt.subplots(3, 3, figsize=(12, 12))\n",
        "\n",
        "axs[0, 0].plot(x, y1, label='y = x')\n",
        "axs[0, 1].plot(x, y2, label='y = x^2')\n",
        "axs[0, 2].plot(x, y3, label='y = x^3/100')\n",
        "axs[1, 0].plot(x, y4, label='y = sin(x)')\n",
        "axs[1, 1].plot(x, y5, label='y = sin(x)/x')\n",
        "axs[1, 2].plot(x, y6, label='y = log(x)')\n",
        "axs[2, 0].plot(x, y7, label='y = exp(x)')\n",
        "\n",
        "axs[0, 0].set_title('y = x')\n",
        "axs[0, 1].set_title('y = x^2')\n",
        "axs[0, 2].set_title('y = x^3/100')\n",
        "axs[1, 0].set_title('y = sin(x)')\n",
        "axs[1, 1].set_title('y = sin(x)/x')\n",
        "axs[1, 2].set_title('y = log(x)')\n",
        "axs[2, 0].set_title('y = exp(x)')\n",
        "\n",
        "for ax in axs.flat:\n",
        "    ax.set(xlabel='x-axis', ylabel='y-axis')\n",
        "\n",
        "# Remove empty subplots\n",
        "for i in range(2, 3):\n",
        "    for j in range(1, 3):\n",
        "        axs[i, j].axis('off')\n",
        "\n",
        "for ax in axs.flat:\n",
        "    if ax.get_legend():\n",
        "        ax.legend()\n",
        "\n",
        "plt.tight_layout()\n",
        "plt.show()"
      ],
      "metadata": {
        "colab": {
          "base_uri": "https://localhost:8080/",
          "height": 1000
        },
        "id": "_XwpqOPWFHcB",
        "outputId": "a5deb1f3-1931-4f7e-c7f5-a49b50525028"
      },
      "execution_count": 17,
      "outputs": [
        {
          "output_type": "display_data",
          "data": {
            "text/plain": [
              "<Figure size 1200x1200 with 9 Axes>"
            ],
            "image/png": "[encoded data removed]"
          },
          "metadata": {}
        }
      ]
    },
    {
      "cell_type": "markdown",
      "source": [
        "### ***10. Using numpy generate a matrix of size 20X5 containing random numbers drawn uniformly from the range of 1 to 2. Using Pandas create a dataframe out of this matrix. Name the columns of the dataframe as “a”, “b”, “c”, “d”, “e”. Find the column with the highest standard deviation. Find the row with the lowest mean.***"
      ],
      "metadata": {
        "id": "G5jNOX82OGUu"
      }
    },
    {
      "cell_type": "code",
      "source": [
        "import pandas as pd"
      ],
      "metadata": {
        "id": "tx5agUKyFHYl"
      },
      "execution_count": 15,
      "outputs": []
    },
    {
      "cell_type": "code",
      "source": [
        "matrix = np.random.uniform(1, 2, size = (20,5))\n",
        "columns = ['a','b','c','d','e']\n",
        "df = pd.DataFrame(matrix , columns = columns)\n",
        "\n",
        "df_std = [0]*5\n",
        "df_mean = [0]*20\n",
        "\n",
        "for i,col in enumerate(columns):\n",
        "  df_std[i] = df[col].std()\n",
        "for i in range(20):\n",
        "  df_mean[i] = df.loc[i].mean()\n",
        "\n",
        "max_std = df_std[0]\n",
        "max_std_idx = 0\n",
        "min_mean = df_mean[0]\n",
        "min_mean_idx = 0\n",
        "\n",
        "for i in range(len(columns)):\n",
        "  if df_std[i] > max_std:\n",
        "    max_std = df_std[i]\n",
        "    max_std_idx = i\n",
        "for i in range(20):\n",
        "  if df_mean[i] < min_mean:\n",
        "    min_mean = df_mean[i]\n",
        "    min_mean_idx = i\n",
        "print(df)\n",
        "print(\"*\"*70)\n",
        "print(f\"Column with the higest standerd devation:- {columns[max_std_idx]}\")\n",
        "print(f\"Row with the lowest mean:- {min_mean_idx}\")"
      ],
      "metadata": {
        "colab": {
          "base_uri": "https://localhost:8080/"
        },
        "id": "CU5DL4syFHUV",
        "outputId": "32bd6395-c838-407c-d3f7-788fb4e05a5b"
      },
      "execution_count": 31,
      "outputs": [
        {
          "output_type": "stream",
          "name": "stdout",
          "text": [
            "           a         b         c         d         e\n",
            "0   1.549897  1.392463  1.774251  1.708918  1.911469\n",
            "1   1.352088  1.390425  1.739437  1.362399  1.620943\n",
            "2   1.935831  1.596651  1.809080  1.225402  1.580754\n",
            "3   1.303823  1.376501  1.249148  1.115639  1.274992\n",
            "4   1.575297  1.376187  1.995220  1.871040  1.666347\n",
            "5   1.216476  1.751737  1.314041  1.824873  1.298962\n",
            "6   1.125984  1.810701  1.883420  1.787417  1.134585\n",
            "7   1.118252  1.269282  1.253100  1.633647  1.163829\n",
            "8   1.714325  1.135424  1.319757  1.010669  1.916749\n",
            "9   1.476683  1.097854  1.827864  1.051180  1.448101\n",
            "10  1.941591  1.791232  1.460592  1.342101  1.370307\n",
            "11  1.729131  1.771750  1.238356  1.981678  1.821085\n",
            "12  1.468952  1.559164  1.072322  1.963131  1.933697\n",
            "13  1.938566  1.111257  1.176807  1.206157  1.789384\n",
            "14  1.418656  1.721408  1.072273  1.162013  1.108596\n",
            "15  1.950577  1.273855  1.718953  1.717827  1.488800\n",
            "16  1.095041  1.464775  1.215987  1.491321  1.307798\n",
            "17  1.369165  1.085024  1.841233  1.837402  1.410918\n",
            "18  1.172258  1.106838  1.164004  1.842221  1.304634\n",
            "19  1.758469  1.760819  1.154308  1.842513  1.469046\n",
            "**********************************************************************\n",
            "Column with the higest standerd devation:- d\n",
            "Row with the lowest mean:- 3\n"
          ]
        }
      ]
    },
    {
      "cell_type": "markdown",
      "source": [
        "### ***11. Add a new column to the dataframe called “f” which is the sum of the columns “a”, “b”, “c”, “d”, “e”. Create another column called “g”. The value in the column “g” should be “LT8” if the value in the column “f” is less than 8 and “GT8” otherwise. Find the number of rows in the dataframe where the value in the column “g” is “LT8”. Find the standard deviation of the column “f” for the rows where the value in the column “g” is “LT8” and “GT8” respectively.***"
      ],
      "metadata": {
        "id": "eslWxNpUeNkH"
      }
    },
    {
      "cell_type": "code",
      "source": [
        "row_sum = df.sum(axis=1)\n",
        "\n",
        "df['f'] = list(row_sum)\n",
        "df['g'] =  df['f'].apply(lambda x: 'LT8' if x<8 else 'GT8')\n",
        "print(df)\n",
        "print(\"*\"*70)\n",
        "\n",
        "lt8 = df[df['g']=='LT8']\n",
        "lt8_std = lt8['f'].std()\n",
        "\n",
        "gt8 = df[df['g']=='GT8']\n",
        "gt8_std = gt8['f'].std()\n",
        "\n",
        "print(f\"Number of values in g having entry 'LT8':- {lt8.shape[0]}\")\n",
        "print(f\"Standerd devation in f where entry in g is 'LT8':- {lt8_std}\")\n",
        "print(f\"Number of values in g having entry 'GT8':- {gt8.shape[0]}\")\n",
        "print(f\"Standerd devation in f where entry in g is 'GT8':- {gt8_std}\")"
      ],
      "metadata": {
        "colab": {
          "base_uri": "https://localhost:8080/"
        },
        "id": "i0fWHtLMFHRl",
        "outputId": "d1221074-1783-4684-8c62-0a002e608feb"
      },
      "execution_count": 32,
      "outputs": [
        {
          "output_type": "stream",
          "name": "stdout",
          "text": [
            "           a         b         c         d         e         f    g\n",
            "0   1.549897  1.392463  1.774251  1.708918  1.911469  8.336999  GT8\n",
            "1   1.352088  1.390425  1.739437  1.362399  1.620943  7.465292  LT8\n",
            "2   1.935831  1.596651  1.809080  1.225402  1.580754  8.147718  GT8\n",
            "3   1.303823  1.376501  1.249148  1.115639  1.274992  6.320102  LT8\n",
            "4   1.575297  1.376187  1.995220  1.871040  1.666347  8.484091  GT8\n",
            "5   1.216476  1.751737  1.314041  1.824873  1.298962  7.406088  LT8\n",
            "6   1.125984  1.810701  1.883420  1.787417  1.134585  7.742106  LT8\n",
            "7   1.118252  1.269282  1.253100  1.633647  1.163829  6.438110  LT8\n",
            "8   1.714325  1.135424  1.319757  1.010669  1.916749  7.096923  LT8\n",
            "9   1.476683  1.097854  1.827864  1.051180  1.448101  6.901682  LT8\n",
            "10  1.941591  1.791232  1.460592  1.342101  1.370307  7.905823  LT8\n",
            "11  1.729131  1.771750  1.238356  1.981678  1.821085  8.542000  GT8\n",
            "12  1.468952  1.559164  1.072322  1.963131  1.933697  7.997265  LT8\n",
            "13  1.938566  1.111257  1.176807  1.206157  1.789384  7.222172  LT8\n",
            "14  1.418656  1.721408  1.072273  1.162013  1.108596  6.482946  LT8\n",
            "15  1.950577  1.273855  1.718953  1.717827  1.488800  8.150012  GT8\n",
            "16  1.095041  1.464775  1.215987  1.491321  1.307798  6.574922  LT8\n",
            "17  1.369165  1.085024  1.841233  1.837402  1.410918  7.543742  LT8\n",
            "18  1.172258  1.106838  1.164004  1.842221  1.304634  6.589954  LT8\n",
            "19  1.758469  1.760819  1.154308  1.842513  1.469046  7.985154  LT8\n",
            "**********************************************************************\n",
            "Number of values in g having entry 'LT8':- 15\n",
            "Standerd devation in f where entry in g is 'LT8':- 0.5976063273416694\n",
            "Number of values in g having entry 'GT8':- 5\n",
            "Standerd devation in f where entry in g is 'GT8':- 0.18325952255411024\n"
          ]
        }
      ]
    },
    {
      "cell_type": "markdown",
      "source": [
        "### ***12. Write a small piece of code to explain broadcasting in numpy.***"
      ],
      "metadata": {
        "id": "D3Qg9avcliBt"
      }
    },
    {
      "cell_type": "markdown",
      "source": [
        "***Broadcasting allows these types of binary operations to be performed on arrays of different sizes***"
      ],
      "metadata": {
        "id": "rHVrMcSmB67T"
      }
    },
    {
      "cell_type": "markdown",
      "source": [
        "## **Rules of Broadcasting**"
      ],
      "metadata": {
        "id": "xXEKmjk4CNOa"
      }
    },
    {
      "cell_type": "markdown",
      "source": [
        "Broadcasting in NumPy follows a strict set of rules to determine the interaction between the two arrays:\n",
        "\n",
        "* Rule 1: If the two arrays differ in their number of dimensions, the shape of the one with fewer dimensions is padded with ones on its leading (left) side.\n",
        "\n",
        "* Rule 2: If the shape of the two arrays does not match in any dimension, the array with shape equal to 1 in that dimension is stretched to match the other shape.\n",
        "\n",
        "* Rule 3: If in any dimension the sizes disagree and neither is equal to 1, an error is raised."
      ],
      "metadata": {
        "id": "votRduucCahn"
      }
    },
    {
      "cell_type": "markdown",
      "source": [
        "**Example 1**"
      ],
      "metadata": {
        "id": "3W6_ZOnfDqGs"
      }
    },
    {
      "cell_type": "code",
      "source": [
        "M = np.ones((2, 3))\n",
        "a = np.arange(3)"
      ],
      "metadata": {
        "id": "G97P1C-NFG-G"
      },
      "execution_count": 28,
      "outputs": []
    },
    {
      "cell_type": "markdown",
      "source": [
        "* Let's consider an operation on these two arrays. The shape of the arrays are\n",
        "\n",
        " * M.shape = (2, 3)\n",
        " * a.shape = (3,)\n",
        "\n",
        "* We see by rule 1 that the array a has fewer dimensions, so we pad it on the left with ones:\n",
        "\n",
        " * M.shape -> (2, 3)\n",
        " * a.shape -> (1, 3)\n",
        "\n",
        "* By rule 2, we now see that the first dimension disagrees, so we stretch this dimension to match:\n",
        "\n",
        " * M.shape -> (2, 3)\n",
        " * a.shape -> (2, 3)\n",
        "\n",
        "* The shapes match, and we see that the final shape will be (2, 3):"
      ],
      "metadata": {
        "id": "1K8BB9zpCzD3"
      }
    },
    {
      "cell_type": "code",
      "source": [
        "print(M + a)"
      ],
      "metadata": {
        "colab": {
          "base_uri": "https://localhost:8080/"
        },
        "id": "10KMwykMDzB-",
        "outputId": "947501f0-4a7d-45a3-e886-939f6da321db"
      },
      "execution_count": 30,
      "outputs": [
        {
          "output_type": "stream",
          "name": "stdout",
          "text": [
            "[[1. 2. 3.]\n",
            " [1. 2. 3.]]\n"
          ]
        }
      ]
    },
    {
      "cell_type": "markdown",
      "source": [
        "### ***13. Write a function to compute the argmin of a numpy array. The function should take a numpy array as input and return the index of the minimum element. You can use the np.argmin function to verify your solution.***"
      ],
      "metadata": {
        "id": "B6Ylajjylr7J"
      }
    },
    {
      "cell_type": "code",
      "source": [
        "matrix = np.random.randint(1,100,size=(15,19))\n",
        "\n",
        "print(matrix)\n",
        "print(\"*\"*100)\n",
        "def ArgMin(matrix,ax):\n",
        "  rows,columns = matrix.shape\n",
        "  if ax==1:\n",
        "    min_row_idx = [0]*rows\n",
        "    for i in range(rows):\n",
        "      val = np.inf\n",
        "      val_idx = 0\n",
        "      for j in range(columns):\n",
        "        if val > matrix[i][j]:\n",
        "          val = matrix[i][j]\n",
        "          val_idx = j\n",
        "      min_row_idx[i] = val_idx\n",
        "    return min_row_idx\n",
        "\n",
        "  elif ax==0:\n",
        "    min_col_idx = [0]*columns\n",
        "    for i in range(columns):\n",
        "      val = np.inf\n",
        "      val_idx = 0\n",
        "      for j in range(rows):\n",
        "        if val > matrix[j][i]:\n",
        "          val = matrix[j][i]\n",
        "          val_idx = j\n",
        "      min_col_idx[i] = val_idx\n",
        "    return min_col_idx\n",
        "  else:\n",
        "    return \"Error\"\n",
        "\n",
        "min_idx_row = ArgMin(matrix,0)\n",
        "min_idx_col = ArgMin(matrix,1)\n",
        "\n",
        "print('Using defined function:-')\n",
        "print(f'Indices of minimun element along row:-\\n{min_idx_row}')\n",
        "print(f'Indices of the minimum element along column:-\\n{min_idx_col}')\n",
        "print(\"*\"*100)\n",
        "min_idx_row_np = np.argmin(matrix,axis=0)\n",
        "min_idx_col_np = np.argmin(matrix,axis=1)\n",
        "\n",
        "print('Using argmin function:-')\n",
        "print(f'Indices of minimun element along row:-\\n{list(min_idx_row_np)}')\n",
        "print(f'Indices of the minimum element along column:-\\n{list(min_idx_col_np)}')"
      ],
      "metadata": {
        "colab": {
          "base_uri": "https://localhost:8080/"
        },
        "id": "OGDJALwLFG6g",
        "outputId": "7f79d89a-5f2c-4a7d-f824-e4ec2b5d2429"
      },
      "execution_count": 27,
      "outputs": [
        {
          "output_type": "stream",
          "name": "stdout",
          "text": [
            "[[48 44 63 93 54 92 46 23 31 28 68 25 19 18 50 27 83 31 97]\n",
            " [93 51 60 40 56 61 56 76 49 62 88 12 97 66 92  5 14 83 48]\n",
            " [87 73 85 80 58 66 28 27 44 60  5 46 84 92  2 35 47 18 66]\n",
            " [15 37 24 88 26 59 78 61 29 50 30 30 78 89 12 90 67  2 42]\n",
            " [95 46 73 38 25 10 21 86 22 67 27 30 27 48 72 11 38  5 58]\n",
            " [63 93 93 84 69 47 45 49 13 69 92  3 14 81 90 64 48  2 57]\n",
            " [11 68  5 28  3 36 33 71 87 18 27 62 56 24 90 83 78 28 70]\n",
            " [28 72 99 31 82 54 52 99 58 39 69 62 82 15 81 42 86 14  3]\n",
            " [97 97 37 81 28 93 57 14 96 28 56  1 74  7 63 27 98  7 41]\n",
            " [42 31 15 41 47 69 74 94 59 70 15  7 15 70 87  7 98 74 51]\n",
            " [53 77 63 14 60 50 54 99 58 28 87 53 82 91 96 56 13 18 75]\n",
            " [20 26 86  8 67 24 70 69  3 99 73 75 14 55 20 55 58 89 13]\n",
            " [12 70 70  5 71  5 12 49 77 86 92 62 30  7 27 94 66 57 26]\n",
            " [61 83 94 55 18 43 20 27 93 23 12 40 13 12 10 28 14 87 26]\n",
            " [37 64 38 86 85 23 73 24 38 19 17 65 99  2 88 87  8 59 83]]\n",
            "****************************************************************************************************\n",
            "Using defined function:-\n",
            "Indices of minimun element along row:-\n",
            "[6, 11, 6, 12, 6, 12, 12, 8, 11, 6, 2, 8, 13, 14, 2, 1, 14, 3, 7]\n",
            "Indices of the minimum element along column:-\n",
            "[13, 15, 14, 17, 17, 17, 4, 18, 11, 11, 16, 8, 3, 14, 13]\n",
            "****************************************************************************************************\n",
            "Using argmin function:-\n",
            "Indices of minimun element along row:-\n",
            "[6, 11, 6, 12, 6, 12, 12, 8, 11, 6, 2, 8, 13, 14, 2, 1, 14, 3, 7]\n",
            "Indices of the minimum element along column:-\n",
            "[13, 15, 14, 17, 17, 17, 4, 18, 11, 11, 16, 8, 3, 14, 13]\n"
          ]
        }
      ]
    }
  ]
}